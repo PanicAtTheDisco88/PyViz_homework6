{
 "cells": [
  {
   "cell_type": "markdown",
   "metadata": {},
   "source": [
    "# San Francisco Rental Prices Dashboard\n",
    "\n",
    "In this notebook, you will compile the visualizations from the previous analysis into functions that can be used for a Panel dashboard."
   ]
  },
  {
   "cell_type": "code",
   "execution_count": 42,
   "metadata": {},
   "outputs": [],
   "source": [
    "# imports\n",
    "import panel as pn\n",
    "pn.extension('plotly')\n",
    "import plotly.express as px\n",
    "import pandas as pd\n",
    "import hvplot.pandas\n",
    "import matplotlib.pyplot as plt\n",
    "import os\n",
    "from pathlib import Path\n",
    "from dotenv import load_dotenv"
   ]
  },
  {
   "cell_type": "code",
   "execution_count": 43,
   "metadata": {},
   "outputs": [],
   "source": [
    "# Read the Mapbox API key\n",
    "load_dotenv(\"C:\\\\Users\\\\rhnil\\\\Desktop\\\\Columbia_Bootcamp\\\\mapbox.env\")\n",
    "map_box_api = os.getenv(\"mapbox\")\n",
    "px.set_mapbox_access_token(map_box_api)"
   ]
  },
  {
   "cell_type": "markdown",
   "metadata": {},
   "source": [
    "# Import Data"
   ]
  },
  {
   "cell_type": "code",
   "execution_count": 44,
   "metadata": {},
   "outputs": [
    {
     "data": {
      "text/html": [
       "<div>\n",
       "<style scoped>\n",
       "    .dataframe tbody tr th:only-of-type {\n",
       "        vertical-align: middle;\n",
       "    }\n",
       "\n",
       "    .dataframe tbody tr th {\n",
       "        vertical-align: top;\n",
       "    }\n",
       "\n",
       "    .dataframe thead th {\n",
       "        text-align: right;\n",
       "    }\n",
       "</style>\n",
       "<table border=\"1\" class=\"dataframe\">\n",
       "  <thead>\n",
       "    <tr style=\"text-align: right;\">\n",
       "      <th></th>\n",
       "      <th>Lat</th>\n",
       "      <th>Lon</th>\n",
       "    </tr>\n",
       "    <tr>\n",
       "      <th>neighborhood</th>\n",
       "      <th></th>\n",
       "      <th></th>\n",
       "    </tr>\n",
       "  </thead>\n",
       "  <tbody>\n",
       "    <tr>\n",
       "      <th>Alamo Square</th>\n",
       "      <td>37.791012</td>\n",
       "      <td>-122.402100</td>\n",
       "    </tr>\n",
       "    <tr>\n",
       "      <th>Anza Vista</th>\n",
       "      <td>37.779598</td>\n",
       "      <td>-122.443451</td>\n",
       "    </tr>\n",
       "    <tr>\n",
       "      <th>Bayview</th>\n",
       "      <td>37.734670</td>\n",
       "      <td>-122.401060</td>\n",
       "    </tr>\n",
       "    <tr>\n",
       "      <th>Bayview Heights</th>\n",
       "      <td>37.728740</td>\n",
       "      <td>-122.410980</td>\n",
       "    </tr>\n",
       "    <tr>\n",
       "      <th>Bernal Heights</th>\n",
       "      <td>37.728630</td>\n",
       "      <td>-122.443050</td>\n",
       "    </tr>\n",
       "  </tbody>\n",
       "</table>\n",
       "</div>"
      ],
      "text/plain": [
       "                       Lat         Lon\n",
       "neighborhood                          \n",
       "Alamo Square     37.791012 -122.402100\n",
       "Anza Vista       37.779598 -122.443451\n",
       "Bayview          37.734670 -122.401060\n",
       "Bayview Heights  37.728740 -122.410980\n",
       "Bernal Heights   37.728630 -122.443050"
      ]
     },
     "execution_count": 44,
     "metadata": {},
     "output_type": "execute_result"
    }
   ],
   "source": [
    "# Import the necessary CSVs to Pandas DataFrames\n",
    "\n",
    "sf_neighborhood_locations = pd.read_csv(Path(\"./Data/neighborhoods_coordinates.csv\"),index_col = 'Neighborhood')\n",
    "sf_neighborhood_locations.index.rename(\"neighborhood\", inplace = True) \n",
    "sf_neighborhood_locations.head()"
   ]
  },
  {
   "cell_type": "code",
   "execution_count": 45,
   "metadata": {},
   "outputs": [
    {
     "data": {
      "text/html": [
       "<div>\n",
       "<style scoped>\n",
       "    .dataframe tbody tr th:only-of-type {\n",
       "        vertical-align: middle;\n",
       "    }\n",
       "\n",
       "    .dataframe tbody tr th {\n",
       "        vertical-align: top;\n",
       "    }\n",
       "\n",
       "    .dataframe thead th {\n",
       "        text-align: right;\n",
       "    }\n",
       "</style>\n",
       "<table border=\"1\" class=\"dataframe\">\n",
       "  <thead>\n",
       "    <tr style=\"text-align: right;\">\n",
       "      <th></th>\n",
       "      <th>neighborhood</th>\n",
       "      <th>sale_price_sqr_foot</th>\n",
       "      <th>housing_units</th>\n",
       "      <th>gross_rent</th>\n",
       "    </tr>\n",
       "    <tr>\n",
       "      <th>year</th>\n",
       "      <th></th>\n",
       "      <th></th>\n",
       "      <th></th>\n",
       "      <th></th>\n",
       "    </tr>\n",
       "  </thead>\n",
       "  <tbody>\n",
       "    <tr>\n",
       "      <th>2010</th>\n",
       "      <td>Alamo Square</td>\n",
       "      <td>291.182945</td>\n",
       "      <td>372560</td>\n",
       "      <td>1239</td>\n",
       "    </tr>\n",
       "    <tr>\n",
       "      <th>2010</th>\n",
       "      <td>Anza Vista</td>\n",
       "      <td>267.932583</td>\n",
       "      <td>372560</td>\n",
       "      <td>1239</td>\n",
       "    </tr>\n",
       "    <tr>\n",
       "      <th>2010</th>\n",
       "      <td>Bayview</td>\n",
       "      <td>170.098665</td>\n",
       "      <td>372560</td>\n",
       "      <td>1239</td>\n",
       "    </tr>\n",
       "    <tr>\n",
       "      <th>2010</th>\n",
       "      <td>Buena Vista Park</td>\n",
       "      <td>347.394919</td>\n",
       "      <td>372560</td>\n",
       "      <td>1239</td>\n",
       "    </tr>\n",
       "    <tr>\n",
       "      <th>2010</th>\n",
       "      <td>Central Richmond</td>\n",
       "      <td>319.027623</td>\n",
       "      <td>372560</td>\n",
       "      <td>1239</td>\n",
       "    </tr>\n",
       "  </tbody>\n",
       "</table>\n",
       "</div>"
      ],
      "text/plain": [
       "          neighborhood  sale_price_sqr_foot  housing_units  gross_rent\n",
       "year                                                                  \n",
       "2010      Alamo Square           291.182945         372560        1239\n",
       "2010        Anza Vista           267.932583         372560        1239\n",
       "2010           Bayview           170.098665         372560        1239\n",
       "2010  Buena Vista Park           347.394919         372560        1239\n",
       "2010  Central Richmond           319.027623         372560        1239"
      ]
     },
     "execution_count": 45,
     "metadata": {},
     "output_type": "execute_result"
    }
   ],
   "source": [
    "sf_data = pd.read_csv(Path(\"./Data/sfo_neighborhoods_census_data.csv\"),index_col = 'year')\n",
    "sf_data.head()"
   ]
  },
  {
   "cell_type": "code",
   "execution_count": 46,
   "metadata": {},
   "outputs": [
    {
     "data": {
      "text/html": [
       "<div>\n",
       "<style scoped>\n",
       "    .dataframe tbody tr th:only-of-type {\n",
       "        vertical-align: middle;\n",
       "    }\n",
       "\n",
       "    .dataframe tbody tr th {\n",
       "        vertical-align: top;\n",
       "    }\n",
       "\n",
       "    .dataframe thead th {\n",
       "        text-align: right;\n",
       "    }\n",
       "</style>\n",
       "<table border=\"1\" class=\"dataframe\">\n",
       "  <thead>\n",
       "    <tr style=\"text-align: right;\">\n",
       "      <th></th>\n",
       "      <th>sale_price_sqr_foot</th>\n",
       "      <th>housing_units</th>\n",
       "      <th>gross_rent</th>\n",
       "    </tr>\n",
       "    <tr>\n",
       "      <th>neighborhood</th>\n",
       "      <th></th>\n",
       "      <th></th>\n",
       "      <th></th>\n",
       "    </tr>\n",
       "  </thead>\n",
       "  <tbody>\n",
       "    <tr>\n",
       "      <th>Alamo Square</th>\n",
       "      <td>366.020712</td>\n",
       "      <td>378401.0</td>\n",
       "      <td>2817.285714</td>\n",
       "    </tr>\n",
       "    <tr>\n",
       "      <th>Anza Vista</th>\n",
       "      <td>373.382198</td>\n",
       "      <td>379050.0</td>\n",
       "      <td>3031.833333</td>\n",
       "    </tr>\n",
       "    <tr>\n",
       "      <th>Bayview</th>\n",
       "      <td>204.588623</td>\n",
       "      <td>376454.0</td>\n",
       "      <td>2318.400000</td>\n",
       "    </tr>\n",
       "    <tr>\n",
       "      <th>Bayview Heights</th>\n",
       "      <td>590.792839</td>\n",
       "      <td>382295.0</td>\n",
       "      <td>3739.000000</td>\n",
       "    </tr>\n",
       "    <tr>\n",
       "      <th>Bernal Heights</th>\n",
       "      <td>576.746488</td>\n",
       "      <td>379374.5</td>\n",
       "      <td>3080.333333</td>\n",
       "    </tr>\n",
       "  </tbody>\n",
       "</table>\n",
       "</div>"
      ],
      "text/plain": [
       "                 sale_price_sqr_foot  housing_units   gross_rent\n",
       "neighborhood                                                    \n",
       "Alamo Square              366.020712       378401.0  2817.285714\n",
       "Anza Vista                373.382198       379050.0  3031.833333\n",
       "Bayview                   204.588623       376454.0  2318.400000\n",
       "Bayview Heights           590.792839       382295.0  3739.000000\n",
       "Bernal Heights            576.746488       379374.5  3080.333333"
      ]
     },
     "execution_count": 46,
     "metadata": {},
     "output_type": "execute_result"
    }
   ],
   "source": [
    "sf_data_avg = sf_data.groupby([sf_data['neighborhood']]).mean()\n",
    "sf_data_avg.head()"
   ]
  },
  {
   "cell_type": "code",
   "execution_count": 47,
   "metadata": {},
   "outputs": [
    {
     "data": {
      "text/html": [
       "<div>\n",
       "<style scoped>\n",
       "    .dataframe tbody tr th:only-of-type {\n",
       "        vertical-align: middle;\n",
       "    }\n",
       "\n",
       "    .dataframe tbody tr th {\n",
       "        vertical-align: top;\n",
       "    }\n",
       "\n",
       "    .dataframe thead th {\n",
       "        text-align: right;\n",
       "    }\n",
       "</style>\n",
       "<table border=\"1\" class=\"dataframe\">\n",
       "  <thead>\n",
       "    <tr style=\"text-align: right;\">\n",
       "      <th></th>\n",
       "      <th>neighborhood</th>\n",
       "      <th>sale_price_sqr_foot</th>\n",
       "      <th>housing_units</th>\n",
       "      <th>gross_rent</th>\n",
       "      <th>Lat</th>\n",
       "      <th>Lon</th>\n",
       "    </tr>\n",
       "  </thead>\n",
       "  <tbody>\n",
       "    <tr>\n",
       "      <th>64</th>\n",
       "      <td>West Portal</td>\n",
       "      <td>498.488485</td>\n",
       "      <td>376940.75</td>\n",
       "      <td>2515.500000</td>\n",
       "      <td>37.74026</td>\n",
       "      <td>-122.463880</td>\n",
       "    </tr>\n",
       "    <tr>\n",
       "      <th>65</th>\n",
       "      <td>Western Addition</td>\n",
       "      <td>307.562201</td>\n",
       "      <td>377427.50</td>\n",
       "      <td>2555.166667</td>\n",
       "      <td>37.79298</td>\n",
       "      <td>-122.435790</td>\n",
       "    </tr>\n",
       "    <tr>\n",
       "      <th>66</th>\n",
       "      <td>Westwood Highlands</td>\n",
       "      <td>533.703935</td>\n",
       "      <td>376454.00</td>\n",
       "      <td>2250.500000</td>\n",
       "      <td>37.73470</td>\n",
       "      <td>-122.456854</td>\n",
       "    </tr>\n",
       "    <tr>\n",
       "      <th>67</th>\n",
       "      <td>Westwood Park</td>\n",
       "      <td>687.087575</td>\n",
       "      <td>382295.00</td>\n",
       "      <td>3959.000000</td>\n",
       "      <td>37.73415</td>\n",
       "      <td>-122.457000</td>\n",
       "    </tr>\n",
       "    <tr>\n",
       "      <th>68</th>\n",
       "      <td>Yerba Buena</td>\n",
       "      <td>576.709848</td>\n",
       "      <td>377427.50</td>\n",
       "      <td>2555.166667</td>\n",
       "      <td>37.79298</td>\n",
       "      <td>-122.396360</td>\n",
       "    </tr>\n",
       "  </tbody>\n",
       "</table>\n",
       "</div>"
      ],
      "text/plain": [
       "          neighborhood  sale_price_sqr_foot  housing_units   gross_rent  \\\n",
       "64         West Portal           498.488485      376940.75  2515.500000   \n",
       "65    Western Addition           307.562201      377427.50  2555.166667   \n",
       "66  Westwood Highlands           533.703935      376454.00  2250.500000   \n",
       "67       Westwood Park           687.087575      382295.00  3959.000000   \n",
       "68         Yerba Buena           576.709848      377427.50  2555.166667   \n",
       "\n",
       "         Lat         Lon  \n",
       "64  37.74026 -122.463880  \n",
       "65  37.79298 -122.435790  \n",
       "66  37.73470 -122.456854  \n",
       "67  37.73415 -122.457000  \n",
       "68  37.79298 -122.396360  "
      ]
     },
     "execution_count": 47,
     "metadata": {},
     "output_type": "execute_result"
    }
   ],
   "source": [
    "# Join dataframes to create full set of data for visualizations\n",
    "sf_neighborhood_data_all = pd.concat([sf_data_avg, sf_neighborhood_locations], axis=\"columns\", join=\"inner\")\n",
    "sf_neighborhood_data_all.reset_index(inplace=True)\n",
    "sf_neighborhood_data_all.tail()"
   ]
  },
  {
   "cell_type": "markdown",
   "metadata": {},
   "source": [
    "- - -"
   ]
  },
  {
   "cell_type": "markdown",
   "metadata": {},
   "source": [
    "## Panel Visualizations\n",
    "\n",
    "In this section, you will copy the code for each plot type from your analysis notebook and place it into separate functions that Panel can use to create panes for the dashboard. \n",
    "\n",
    "These functions will convert the plot object to a Panel pane.\n",
    "\n",
    "Be sure to include any DataFrame transformation/manipulation code required along with the plotting code.\n",
    "\n",
    "Return a Panel pane object from each function that can be used to build the dashboard.\n",
    "\n",
    "Note: Remove any `.show()` lines from the code. We want to return the plots instead of showing them. The Panel dashboard will then display the plots."
   ]
  },
  {
   "cell_type": "code",
   "execution_count": 48,
   "metadata": {},
   "outputs": [
    {
     "data": {
      "text/html": [
       "<div>\n",
       "<style scoped>\n",
       "    .dataframe tbody tr th:only-of-type {\n",
       "        vertical-align: middle;\n",
       "    }\n",
       "\n",
       "    .dataframe tbody tr th {\n",
       "        vertical-align: top;\n",
       "    }\n",
       "\n",
       "    .dataframe thead th {\n",
       "        text-align: right;\n",
       "    }\n",
       "</style>\n",
       "<table border=\"1\" class=\"dataframe\">\n",
       "  <thead>\n",
       "    <tr style=\"text-align: right;\">\n",
       "      <th></th>\n",
       "      <th>neighborhood</th>\n",
       "      <th>sale_price_sqr_foot</th>\n",
       "      <th>housing_units</th>\n",
       "      <th>gross_rent</th>\n",
       "    </tr>\n",
       "    <tr>\n",
       "      <th>year</th>\n",
       "      <th></th>\n",
       "      <th></th>\n",
       "      <th></th>\n",
       "      <th></th>\n",
       "    </tr>\n",
       "  </thead>\n",
       "  <tbody>\n",
       "    <tr>\n",
       "      <th>2010</th>\n",
       "      <td>Alamo Square</td>\n",
       "      <td>291.182945</td>\n",
       "      <td>372560</td>\n",
       "      <td>1239</td>\n",
       "    </tr>\n",
       "    <tr>\n",
       "      <th>2010</th>\n",
       "      <td>Anza Vista</td>\n",
       "      <td>267.932583</td>\n",
       "      <td>372560</td>\n",
       "      <td>1239</td>\n",
       "    </tr>\n",
       "    <tr>\n",
       "      <th>2010</th>\n",
       "      <td>Bayview</td>\n",
       "      <td>170.098665</td>\n",
       "      <td>372560</td>\n",
       "      <td>1239</td>\n",
       "    </tr>\n",
       "    <tr>\n",
       "      <th>2010</th>\n",
       "      <td>Buena Vista Park</td>\n",
       "      <td>347.394919</td>\n",
       "      <td>372560</td>\n",
       "      <td>1239</td>\n",
       "    </tr>\n",
       "    <tr>\n",
       "      <th>2010</th>\n",
       "      <td>Central Richmond</td>\n",
       "      <td>319.027623</td>\n",
       "      <td>372560</td>\n",
       "      <td>1239</td>\n",
       "    </tr>\n",
       "  </tbody>\n",
       "</table>\n",
       "</div>"
      ],
      "text/plain": [
       "          neighborhood  sale_price_sqr_foot  housing_units  gross_rent\n",
       "year                                                                  \n",
       "2010      Alamo Square           291.182945         372560        1239\n",
       "2010        Anza Vista           267.932583         372560        1239\n",
       "2010           Bayview           170.098665         372560        1239\n",
       "2010  Buena Vista Park           347.394919         372560        1239\n",
       "2010  Central Richmond           319.027623         372560        1239"
      ]
     },
     "execution_count": 48,
     "metadata": {},
     "output_type": "execute_result"
    }
   ],
   "source": [
    "sf_data.head()"
   ]
  },
  {
   "cell_type": "code",
   "execution_count": 87,
   "metadata": {},
   "outputs": [],
   "source": [
    "# Construct datasets to be plotted\n",
    "sf_avg_housing_units = sf_data[\"housing_units\"].groupby([sf_data.index]).mean()\n",
    "\n",
    "sf_avg_gross_rent = sf_data[\"gross_rent\"].groupby([sf_data.index]).mean()\n",
    "\n",
    "sf_avg_psf = sf_data[\"sale_price_sqr_foot\"].groupby([sf_data.index]).mean()\n",
    "\n",
    "sf_avg_psf_neighborhood = sf_data[\"sale_price_sqr_foot\"].groupby([sf_data.neighborhood,sf_data.index]).mean()\n",
    "sf_avg_psf_neighborhood_df = sf_avg_psf_neighborhood.to_frame()\n",
    "sf_avg_psf_neighborhood_df.reset_index(inplace=True)\n",
    "sf_avg_psf_neighborhood_df = sf_avg_psf_neighborhood_df[['year', 'neighborhood', 'sale_price_sqr_foot']]\n",
    "\n",
    "psf_2016 = sf_avg_psf_neighborhood_df[sf_avg_psf_neighborhood_df.year == 2016]\n",
    "top10_psf_2016 = psf_2016.sort_values(by='sale_price_sqr_foot',ascending=False).head(10)\n",
    "\n",
    "sf_buy = sf_data.hvplot.line(x='year', y='sale_price_sqr_foot', groupby='neighborhood')\n",
    "sf_rent = sf_data.hvplot.line(x='year', y='gross_rent', groupby='neighborhood')\n",
    "\n"
   ]
  },
  {
   "cell_type": "code",
   "execution_count": 84,
   "metadata": {},
   "outputs": [],
   "source": [
    "# Define Panel Visualization Functions\n",
    "def housing_units_per_year():\n",
    "    bar_plot_height_base = sf_avg_housing_units.min()\n",
    "    bar_plot_height_top = sf_avg_housing_units.max()\n",
    "    yaxis_adj = sf_avg_housing_units.std()*2\n",
    "    sf_housing_units_per_year_plot = sf_avg_housing_units.hvplot(y=\"housing_units\", kind=\"bar\", height=200, width=400, \n",
    "                             ylim=(bar_plot_height_base-yaxis_adj,bar_plot_height_top+yaxis_adj),\n",
    "                             yformatter='%0u',\n",
    "    )\n",
    "    return sf_housing_units_per_year_plot\n",
    "\n",
    "\n",
    "def average_gross_rent():\n",
    "    sf_avg_gross_rent_plot = sf_avg_gross_rent.hvplot(x=\"year\", y=\"gross_rent\", kind=\"line\", \n",
    "                                                      height=200, width=400\n",
    "    )\n",
    "    return sf_avg_gross_rent_plot\n",
    "    \n",
    "\n",
    "\n",
    "def average_sales_price():\n",
    "    sf_avg_psf_plot = sf_avg_psf.hvplot(x=\"year\", y=\"sale_price_sqr_foot\", kind=\"line\", height=200, width=400)\n",
    "    return sf_avg_psf_plot\n",
    "\n",
    "\n",
    "\n",
    "def average_price_by_neighborhood():\n",
    "    sf_avg_psf_neighborhood_plot =sf_avg_psf_neighborhood_df.hvplot.line('year','sale_price_sqr_foot', groupby='neighborhood')\n",
    "    return sf_avg_psf_neighborhood_plot\n",
    "\n",
    "\n",
    "def top_most_expensive_neighborhoods():\n",
    "    min = top10_psf_2016['sale_price_sqr_foot'].min()\n",
    "    max = top10_psf_2016['sale_price_sqr_foot'].max()\n",
    "    top10_psf_2016_plot = top10_psf_2016.hvplot.bar(x=\"neighborhood\", y=\"sale_price_sqr_foot\",  height=400, width=800, \n",
    "                             ylim=(0,max+100),\n",
    "                             yformatter='%0u',\n",
    "                             rot = 60\n",
    "                             )\n",
    "    return top10_psf_2016_plot\n",
    "\n",
    "\n",
    "def most_expensive_neighborhoods_rent_sales():\n",
    "    plots_as_column = pn.Column(\"Rent vs. Buy\", sf_buy, sf_rent)\n",
    "    plots_as_column  \n",
    "    \n",
    "    # YOUR CODE HERE!\n",
    "\n",
    "    \n",
    "    \n",
    "def parallel_coordinates():\n",
    "    \"\"\"Parallel Coordinates Plot.\"\"\"\n",
    "\n",
    "    # YOUR CODE HERE!\n",
    "\n",
    "\n",
    "\n",
    "def parallel_categories():\n",
    "    \"\"\"Parallel Categories Plot.\"\"\"\n",
    "    \n",
    "    # YOUR CODE HERE!\n",
    "\n",
    "\n",
    "\n",
    "def neighborhood_map():\n",
    "    \"\"\"Neighborhood Map.\"\"\"\n",
    "\n",
    "    # YOUR CODE HERE!\n",
    "\n",
    "\n",
    "def sunburst():\n",
    "    \"\"\"Sunburst Plot.\"\"\"\n",
    "    \n",
    "    # YOUR CODE HERE!"
   ]
  },
  {
   "cell_type": "markdown",
   "metadata": {},
   "source": [
    "## Panel Dashboard\n",
    "\n",
    "In this section, you will combine all of the plots into a single dashboard view using Panel. Be creative with your dashboard design!"
   ]
  },
  {
   "cell_type": "code",
   "execution_count": null,
   "metadata": {},
   "outputs": [],
   "source": [
    "# Create a Title for the Dashboard\n",
    "# Create panels to structure the layout of the dashboard\n",
    "#geo_column = pn.Column(\"## Population and Crime Geo Plots\", population_plot, crime_plot)\n",
    "#scatter_column = pn.Column(\n",
    "#    \"## Correlation of Population and Crime Plots\", population_violence, violent_murder\n",
    "#)\n",
    "\n",
    "# Create a tab layout for the dashboard\n",
    "# YOUR CODE HERE!\n",
    "\n",
    "\n",
    "# Create the dashboard\n",
    "# YOUR CODE HERE!"
   ]
  },
  {
   "cell_type": "markdown",
   "metadata": {},
   "source": [
    "## Serve the Panel Dashboard"
   ]
  },
  {
   "cell_type": "code",
   "execution_count": null,
   "metadata": {},
   "outputs": [],
   "source": [
    "# Serve the# dashboard\n",
    "# YOUR CODE HERE!"
   ]
  },
  {
   "cell_type": "markdown",
   "metadata": {},
   "source": [
    "# Debugging\n",
    "\n",
    "Note: Some of the Plotly express plots may not render in the notebook through the panel functions.\n",
    "\n",
    "However, you can test each plot by uncommenting the following code"
   ]
  },
  {
   "cell_type": "code",
   "execution_count": 51,
   "metadata": {},
   "outputs": [
    {
     "data": {},
     "metadata": {},
     "output_type": "display_data"
    },
    {
     "data": {
      "application/vnd.holoviews_exec.v0+json": "",
      "text/html": [
       "<div id='1119'>\n",
       "\n",
       "\n",
       "\n",
       "\n",
       "\n",
       "  <div class=\"bk-root\" id=\"e1339c1a-50e5-4e2d-8494-fb1c381f4dd5\" data-root-id=\"1119\"></div>\n",
       "</div>\n",
       "<script type=\"application/javascript\">(function(root) {\n",
       "  function embed_document(root) {\n",
       "    var docs_json = {\"d0194a73-d98a-481a-af10-a19899312173\":{\"defs\":[],\"roots\":{\"references\":[{\"attributes\":{\"bottom_units\":\"screen\",\"fill_alpha\":0.5,\"fill_color\":\"lightgrey\",\"left_units\":\"screen\",\"level\":\"overlay\",\"line_alpha\":1.0,\"line_color\":\"black\",\"line_dash\":[4,4],\"line_width\":2,\"right_units\":\"screen\",\"syncable\":false,\"top_units\":\"screen\"},\"id\":\"1145\",\"type\":\"BoxAnnotation\"},{\"attributes\":{},\"id\":\"1134\",\"type\":\"CategoricalTicker\"},{\"attributes\":{\"children\":[{\"id\":\"1120\"},{\"id\":\"1124\"},{\"id\":\"1189\"}],\"margin\":[0,0,0,0],\"name\":\"Row01782\",\"tags\":[\"embedded\"]},\"id\":\"1119\",\"type\":\"Row\"},{\"attributes\":{},\"id\":\"1177\",\"type\":\"UnionRenderers\"},{\"attributes\":{\"below\":[{\"id\":\"1133\"}],\"center\":[{\"id\":\"1135\"},{\"id\":\"1139\"}],\"height\":400,\"left\":[{\"id\":\"1136\"}],\"margin\":[5,5,5,5],\"min_border_bottom\":10,\"min_border_left\":10,\"min_border_right\":10,\"min_border_top\":10,\"renderers\":[{\"id\":\"1159\"}],\"sizing_mode\":\"fixed\",\"title\":{\"id\":\"1125\"},\"toolbar\":{\"id\":\"1146\"},\"width\":800,\"x_range\":{\"id\":\"1121\"},\"x_scale\":{\"id\":\"1129\"},\"y_range\":{\"id\":\"1122\"},\"y_scale\":{\"id\":\"1131\"}},\"id\":\"1124\",\"subtype\":\"Figure\",\"type\":\"Plot\"},{\"attributes\":{},\"id\":\"1129\",\"type\":\"CategoricalScale\"},{\"attributes\":{\"data\":{\"housing_units\":[372560,374507,376454,378401,380348,382295,384242],\"year\":[\"2010\",\"2011\",\"2012\",\"2013\",\"2014\",\"2015\",\"2016\"]},\"selected\":{\"id\":\"1154\"},\"selection_policy\":{\"id\":\"1177\"}},\"id\":\"1153\",\"type\":\"ColumnDataSource\"},{\"attributes\":{},\"id\":\"1131\",\"type\":\"LinearScale\"},{\"attributes\":{\"margin\":[5,5,5,5],\"name\":\"HSpacer01786\",\"sizing_mode\":\"stretch_width\"},\"id\":\"1120\",\"type\":\"Spacer\"},{\"attributes\":{\"axis\":{\"id\":\"1136\"},\"dimension\":1,\"grid_line_color\":null,\"ticker\":null},\"id\":\"1139\",\"type\":\"Grid\"},{\"attributes\":{},\"id\":\"1168\",\"type\":\"AllLabels\"},{\"attributes\":{},\"id\":\"1141\",\"type\":\"PanTool\"},{\"attributes\":{\"axis_label\":\"year\",\"formatter\":{\"id\":\"1165\"},\"major_label_policy\":{\"id\":\"1164\"},\"ticker\":{\"id\":\"1134\"}},\"id\":\"1133\",\"type\":\"CategoricalAxis\"},{\"attributes\":{\"axis_label\":\"\",\"formatter\":{\"id\":\"1162\"},\"major_label_policy\":{\"id\":\"1168\"},\"ticker\":{\"id\":\"1137\"}},\"id\":\"1136\",\"type\":\"LinearAxis\"},{\"attributes\":{},\"id\":\"1137\",\"type\":\"BasicTicker\"},{\"attributes\":{},\"id\":\"1142\",\"type\":\"WheelZoomTool\"},{\"attributes\":{},\"id\":\"1140\",\"type\":\"SaveTool\"},{\"attributes\":{\"overlay\":{\"id\":\"1145\"}},\"id\":\"1143\",\"type\":\"BoxZoomTool\"},{\"attributes\":{},\"id\":\"1144\",\"type\":\"ResetTool\"},{\"attributes\":{\"margin\":[5,5,5,5],\"name\":\"HSpacer01787\",\"sizing_mode\":\"stretch_width\"},\"id\":\"1189\",\"type\":\"Spacer\"},{\"attributes\":{\"active_multi\":null,\"tools\":[{\"id\":\"1123\"},{\"id\":\"1140\"},{\"id\":\"1141\"},{\"id\":\"1142\"},{\"id\":\"1143\"},{\"id\":\"1144\"}]},\"id\":\"1146\",\"type\":\"Toolbar\"},{\"attributes\":{\"fill_color\":{\"value\":\"#30a2da\"},\"top\":{\"field\":\"housing_units\"},\"width\":{\"value\":0.8},\"x\":{\"field\":\"year\"}},\"id\":\"1156\",\"type\":\"VBar\"},{\"attributes\":{},\"id\":\"1154\",\"type\":\"Selection\"},{\"attributes\":{\"fill_alpha\":{\"value\":0.1},\"fill_color\":{\"value\":\"#30a2da\"},\"line_alpha\":{\"value\":0.1},\"top\":{\"field\":\"housing_units\"},\"width\":{\"value\":0.8},\"x\":{\"field\":\"year\"}},\"id\":\"1157\",\"type\":\"VBar\"},{\"attributes\":{\"data_source\":{\"id\":\"1153\"},\"glyph\":{\"id\":\"1156\"},\"hover_glyph\":null,\"muted_glyph\":{\"id\":\"1158\"},\"nonselection_glyph\":{\"id\":\"1157\"},\"selection_glyph\":{\"id\":\"1161\"},\"view\":{\"id\":\"1160\"}},\"id\":\"1159\",\"type\":\"GlyphRenderer\"},{\"attributes\":{\"source\":{\"id\":\"1153\"}},\"id\":\"1160\",\"type\":\"CDSView\"},{\"attributes\":{\"callback\":null,\"renderers\":[{\"id\":\"1159\"}],\"tags\":[\"hv_created\"],\"tooltips\":[[\"year\",\"@{year}\"],[\"housing_units\",\"@{housing_units}\"]]},\"id\":\"1123\",\"type\":\"HoverTool\"},{\"attributes\":{\"end\":392654.0014265334,\"reset_end\":392654.0014265334,\"reset_start\":364147.9985734666,\"start\":364147.9985734666,\"tags\":[[[\"housing_units\",\"housing_units\",null]]]},\"id\":\"1122\",\"type\":\"Range1d\"},{\"attributes\":{\"bottom\":{\"value\":0},\"fill_alpha\":{\"value\":1.0},\"fill_color\":{\"value\":\"#30a2da\"},\"hatch_alpha\":{\"value\":1.0},\"hatch_color\":{\"value\":\"black\"},\"hatch_scale\":{\"value\":12.0},\"hatch_weight\":{\"value\":1.0},\"line_alpha\":{\"value\":1.0},\"line_cap\":{\"value\":\"butt\"},\"line_color\":{\"value\":\"black\"},\"line_dash\":{\"value\":[]},\"line_dash_offset\":{\"value\":0},\"line_join\":{\"value\":\"bevel\"},\"line_width\":{\"value\":1},\"top\":{\"field\":\"housing_units\"},\"width\":{\"value\":0.8},\"x\":{\"field\":\"year\"}},\"id\":\"1161\",\"type\":\"VBar\"},{\"attributes\":{\"factors\":[\"2010\",\"2011\",\"2012\",\"2013\",\"2014\",\"2015\",\"2016\"],\"tags\":[[[\"year\",\"year\",null]]]},\"id\":\"1121\",\"type\":\"FactorRange\"},{\"attributes\":{\"fill_alpha\":{\"value\":0.2},\"fill_color\":{\"value\":\"#30a2da\"},\"line_alpha\":{\"value\":0.2},\"top\":{\"field\":\"housing_units\"},\"width\":{\"value\":0.8},\"x\":{\"field\":\"year\"}},\"id\":\"1158\",\"type\":\"VBar\"},{\"attributes\":{\"format\":\"%0u\"},\"id\":\"1162\",\"type\":\"PrintfTickFormatter\"},{\"attributes\":{\"text\":\"housing_units\",\"text_color\":\"black\",\"text_font_size\":\"12pt\"},\"id\":\"1125\",\"type\":\"Title\"},{\"attributes\":{},\"id\":\"1165\",\"type\":\"CategoricalTickFormatter\"},{\"attributes\":{\"axis\":{\"id\":\"1133\"},\"grid_line_color\":null,\"ticker\":null},\"id\":\"1135\",\"type\":\"Grid\"},{\"attributes\":{},\"id\":\"1164\",\"type\":\"AllLabels\"}],\"root_ids\":[\"1119\"]},\"title\":\"Bokeh Application\",\"version\":\"2.3.1\"}};\n",
       "    var render_items = [{\"docid\":\"d0194a73-d98a-481a-af10-a19899312173\",\"root_ids\":[\"1119\"],\"roots\":{\"1119\":\"e1339c1a-50e5-4e2d-8494-fb1c381f4dd5\"}}];\n",
       "    root.Bokeh.embed.embed_items_notebook(docs_json, render_items);\n",
       "  }\n",
       "  if (root.Bokeh !== undefined && root.Bokeh.Panel !== undefined && root['Plotly'] !== undefined ) {\n",
       "    embed_document(root);\n",
       "  } else {\n",
       "    var attempts = 0;\n",
       "    var timer = setInterval(function(root) {\n",
       "      if (root.Bokeh !== undefined && root.Bokeh.Panel !== undefined && root['Plotly'] !== undefined) {\n",
       "        clearInterval(timer);\n",
       "        embed_document(root);\n",
       "      } else if (document.readyState == \"complete\") {\n",
       "        attempts++;\n",
       "        if (attempts > 100) {\n",
       "          clearInterval(timer);\n",
       "          console.log(\"Bokeh: ERROR: Unable to run BokehJS code because BokehJS library is missing\");\n",
       "        }\n",
       "      }\n",
       "    }, 10, root)\n",
       "  }\n",
       "})(window);</script>"
      ],
      "text/plain": [
       ":Bars   [year]   (housing_units)"
      ]
     },
     "execution_count": 51,
     "metadata": {
      "application/vnd.holoviews_exec.v0+json": {
       "id": "1119"
      }
     },
     "output_type": "execute_result"
    }
   ],
   "source": [
    "housing_units_per_year()"
   ]
  },
  {
   "cell_type": "code",
   "execution_count": 63,
   "metadata": {},
   "outputs": [
    {
     "data": {},
     "metadata": {},
     "output_type": "display_data"
    },
    {
     "data": {
      "application/vnd.holoviews_exec.v0+json": "",
      "text/html": [
       "<div id='1236'>\n",
       "\n",
       "\n",
       "\n",
       "\n",
       "\n",
       "  <div class=\"bk-root\" id=\"cda24394-f690-433a-bf66-acfabb43fc40\" data-root-id=\"1236\"></div>\n",
       "</div>\n",
       "<script type=\"application/javascript\">(function(root) {\n",
       "  function embed_document(root) {\n",
       "    var docs_json = {\"c1e868c4-b79f-4cf8-94ec-9a064ba1a8cf\":{\"defs\":[],\"roots\":{\"references\":[{\"attributes\":{},\"id\":\"1281\",\"type\":\"BasicTickFormatter\"},{\"attributes\":{},\"id\":\"1248\",\"type\":\"LinearScale\"},{\"attributes\":{\"axis\":{\"id\":\"1254\"},\"dimension\":1,\"grid_line_color\":null,\"ticker\":null},\"id\":\"1257\",\"type\":\"Grid\"},{\"attributes\":{},\"id\":\"1246\",\"type\":\"LinearScale\"},{\"attributes\":{\"callback\":null,\"renderers\":[{\"id\":\"1277\"}],\"tags\":[\"hv_created\"],\"tooltips\":[[\"year\",\"@{year}\"],[\"gross_rent\",\"@{gross_rent}\"]]},\"id\":\"1240\",\"type\":\"HoverTool\"},{\"attributes\":{},\"id\":\"1285\",\"type\":\"AllLabels\"},{\"attributes\":{\"end\":2016.0,\"reset_end\":2016.0,\"reset_start\":2010.0,\"start\":2010.0,\"tags\":[[[\"year\",\"year\",null]]]},\"id\":\"1238\",\"type\":\"Range1d\"},{\"attributes\":{},\"id\":\"1260\",\"type\":\"WheelZoomTool\"},{\"attributes\":{},\"id\":\"1293\",\"type\":\"UnionRenderers\"},{\"attributes\":{\"axis_label\":\"\",\"formatter\":{\"id\":\"1284\"},\"major_label_policy\":{\"id\":\"1285\"},\"ticker\":{\"id\":\"1255\"}},\"id\":\"1254\",\"type\":\"LinearAxis\"},{\"attributes\":{\"overlay\":{\"id\":\"1263\"}},\"id\":\"1261\",\"type\":\"BoxZoomTool\"},{\"attributes\":{\"active_multi\":null,\"tools\":[{\"id\":\"1240\"},{\"id\":\"1258\"},{\"id\":\"1259\"},{\"id\":\"1260\"},{\"id\":\"1261\"},{\"id\":\"1262\"}]},\"id\":\"1264\",\"type\":\"Toolbar\"},{\"attributes\":{\"end\":4705.1,\"reset_end\":4705.1,\"reset_start\":923.9,\"start\":923.9,\"tags\":[[[\"gross_rent\",\"gross_rent\",null]]]},\"id\":\"1239\",\"type\":\"Range1d\"},{\"attributes\":{\"data\":{\"gross_rent\":[1239,1530,2324,2971,3528,3739,4390],\"year\":[2010,2011,2012,2013,2014,2015,2016]},\"selected\":{\"id\":\"1272\"},\"selection_policy\":{\"id\":\"1293\"}},\"id\":\"1271\",\"type\":\"ColumnDataSource\"},{\"attributes\":{\"line_alpha\":0.1,\"line_color\":\"#30a2da\",\"line_width\":2,\"x\":{\"field\":\"year\"},\"y\":{\"field\":\"gross_rent\"}},\"id\":\"1275\",\"type\":\"Line\"},{\"attributes\":{},\"id\":\"1258\",\"type\":\"SaveTool\"},{\"attributes\":{\"margin\":[5,5,5,5],\"name\":\"HSpacer01936\",\"sizing_mode\":\"stretch_width\"},\"id\":\"1306\",\"type\":\"Spacer\"},{\"attributes\":{\"line_color\":\"#30a2da\",\"line_width\":2,\"x\":{\"field\":\"year\"},\"y\":{\"field\":\"gross_rent\"}},\"id\":\"1274\",\"type\":\"Line\"},{\"attributes\":{},\"id\":\"1272\",\"type\":\"Selection\"},{\"attributes\":{\"data_source\":{\"id\":\"1271\"},\"glyph\":{\"id\":\"1274\"},\"hover_glyph\":null,\"muted_glyph\":{\"id\":\"1276\"},\"nonselection_glyph\":{\"id\":\"1275\"},\"selection_glyph\":{\"id\":\"1279\"},\"view\":{\"id\":\"1278\"}},\"id\":\"1277\",\"type\":\"GlyphRenderer\"},{\"attributes\":{\"children\":[{\"id\":\"1237\"},{\"id\":\"1241\"},{\"id\":\"1306\"}],\"margin\":[0,0,0,0],\"name\":\"Row01931\",\"tags\":[\"embedded\"]},\"id\":\"1236\",\"type\":\"Row\"},{\"attributes\":{},\"id\":\"1255\",\"type\":\"BasicTicker\"},{\"attributes\":{\"axis\":{\"id\":\"1250\"},\"grid_line_color\":null,\"ticker\":null},\"id\":\"1253\",\"type\":\"Grid\"},{\"attributes\":{\"below\":[{\"id\":\"1250\"}],\"center\":[{\"id\":\"1253\"},{\"id\":\"1257\"}],\"height\":400,\"left\":[{\"id\":\"1254\"}],\"margin\":[5,5,5,5],\"min_border_bottom\":10,\"min_border_left\":10,\"min_border_right\":10,\"min_border_top\":10,\"renderers\":[{\"id\":\"1277\"}],\"sizing_mode\":\"fixed\",\"title\":{\"id\":\"1242\"},\"toolbar\":{\"id\":\"1264\"},\"width\":800,\"x_range\":{\"id\":\"1238\"},\"x_scale\":{\"id\":\"1246\"},\"y_range\":{\"id\":\"1239\"},\"y_scale\":{\"id\":\"1248\"}},\"id\":\"1241\",\"subtype\":\"Figure\",\"type\":\"Plot\"},{\"attributes\":{},\"id\":\"1282\",\"type\":\"AllLabels\"},{\"attributes\":{\"source\":{\"id\":\"1271\"}},\"id\":\"1278\",\"type\":\"CDSView\"},{\"attributes\":{\"line_alpha\":0.2,\"line_color\":\"#30a2da\",\"line_width\":2,\"x\":{\"field\":\"year\"},\"y\":{\"field\":\"gross_rent\"}},\"id\":\"1276\",\"type\":\"Line\"},{\"attributes\":{\"margin\":[5,5,5,5],\"name\":\"HSpacer01935\",\"sizing_mode\":\"stretch_width\"},\"id\":\"1237\",\"type\":\"Spacer\"},{\"attributes\":{\"bottom_units\":\"screen\",\"fill_alpha\":0.5,\"fill_color\":\"lightgrey\",\"left_units\":\"screen\",\"level\":\"overlay\",\"line_alpha\":1.0,\"line_color\":\"black\",\"line_dash\":[4,4],\"line_width\":2,\"right_units\":\"screen\",\"syncable\":false,\"top_units\":\"screen\"},\"id\":\"1263\",\"type\":\"BoxAnnotation\"},{\"attributes\":{\"text\":\"gross_rent\",\"text_color\":\"black\",\"text_font_size\":\"12pt\"},\"id\":\"1242\",\"type\":\"Title\"},{\"attributes\":{\"line_color\":\"#30a2da\",\"line_width\":2,\"x\":{\"field\":\"year\"},\"y\":{\"field\":\"gross_rent\"}},\"id\":\"1279\",\"type\":\"Line\"},{\"attributes\":{},\"id\":\"1262\",\"type\":\"ResetTool\"},{\"attributes\":{\"axis_label\":\"year\",\"formatter\":{\"id\":\"1281\"},\"major_label_policy\":{\"id\":\"1282\"},\"ticker\":{\"id\":\"1251\"}},\"id\":\"1250\",\"type\":\"LinearAxis\"},{\"attributes\":{},\"id\":\"1259\",\"type\":\"PanTool\"},{\"attributes\":{},\"id\":\"1284\",\"type\":\"BasicTickFormatter\"},{\"attributes\":{},\"id\":\"1251\",\"type\":\"BasicTicker\"}],\"root_ids\":[\"1236\"]},\"title\":\"Bokeh Application\",\"version\":\"2.3.1\"}};\n",
       "    var render_items = [{\"docid\":\"c1e868c4-b79f-4cf8-94ec-9a064ba1a8cf\",\"root_ids\":[\"1236\"],\"roots\":{\"1236\":\"cda24394-f690-433a-bf66-acfabb43fc40\"}}];\n",
       "    root.Bokeh.embed.embed_items_notebook(docs_json, render_items);\n",
       "  }\n",
       "  if (root.Bokeh !== undefined && root.Bokeh.Panel !== undefined && root['Plotly'] !== undefined ) {\n",
       "    embed_document(root);\n",
       "  } else {\n",
       "    var attempts = 0;\n",
       "    var timer = setInterval(function(root) {\n",
       "      if (root.Bokeh !== undefined && root.Bokeh.Panel !== undefined && root['Plotly'] !== undefined) {\n",
       "        clearInterval(timer);\n",
       "        embed_document(root);\n",
       "      } else if (document.readyState == \"complete\") {\n",
       "        attempts++;\n",
       "        if (attempts > 100) {\n",
       "          clearInterval(timer);\n",
       "          console.log(\"Bokeh: ERROR: Unable to run BokehJS code because BokehJS library is missing\");\n",
       "        }\n",
       "      }\n",
       "    }, 10, root)\n",
       "  }\n",
       "})(window);</script>"
      ],
      "text/plain": [
       ":Curve   [year]   (gross_rent)"
      ]
     },
     "execution_count": 63,
     "metadata": {
      "application/vnd.holoviews_exec.v0+json": {
       "id": "1236"
      }
     },
     "output_type": "execute_result"
    }
   ],
   "source": [
    "average_gross_rent()"
   ]
  },
  {
   "cell_type": "code",
   "execution_count": 71,
   "metadata": {},
   "outputs": [
    {
     "data": {},
     "metadata": {},
     "output_type": "display_data"
    },
    {
     "data": {
      "application/vnd.holoviews_exec.v0+json": "",
      "text/html": [
       "<div id='1358'>\n",
       "\n",
       "\n",
       "\n",
       "\n",
       "\n",
       "  <div class=\"bk-root\" id=\"82d18db9-a0f3-444b-be5b-9d3d1d13dfe5\" data-root-id=\"1358\"></div>\n",
       "</div>\n",
       "<script type=\"application/javascript\">(function(root) {\n",
       "  function embed_document(root) {\n",
       "    var docs_json = {\"c1edf69e-8902-440d-81e6-199f0930e6a3\":{\"defs\":[],\"roots\":{\"references\":[{\"attributes\":{\"children\":[{\"id\":\"1359\"},{\"id\":\"1363\"},{\"id\":\"1428\"}],\"margin\":[0,0,0,0],\"name\":\"Row02254\",\"tags\":[\"embedded\"]},\"id\":\"1358\",\"type\":\"Row\"},{\"attributes\":{\"data_source\":{\"id\":\"1393\"},\"glyph\":{\"id\":\"1396\"},\"hover_glyph\":null,\"muted_glyph\":{\"id\":\"1398\"},\"nonselection_glyph\":{\"id\":\"1397\"},\"selection_glyph\":{\"id\":\"1401\"},\"view\":{\"id\":\"1400\"}},\"id\":\"1399\",\"type\":\"GlyphRenderer\"},{\"attributes\":{\"text\":\"sale_price_sqr_foot\",\"text_color\":\"black\",\"text_font_size\":\"12pt\"},\"id\":\"1364\",\"type\":\"Title\"},{\"attributes\":{\"bottom_units\":\"screen\",\"fill_alpha\":0.5,\"fill_color\":\"lightgrey\",\"left_units\":\"screen\",\"level\":\"overlay\",\"line_alpha\":1.0,\"line_color\":\"black\",\"line_dash\":[4,4],\"line_width\":2,\"right_units\":\"screen\",\"syncable\":false,\"top_units\":\"screen\"},\"id\":\"1385\",\"type\":\"BoxAnnotation\"},{\"attributes\":{},\"id\":\"1404\",\"type\":\"AllLabels\"},{\"attributes\":{},\"id\":\"1406\",\"type\":\"BasicTickFormatter\"},{\"attributes\":{},\"id\":\"1381\",\"type\":\"PanTool\"},{\"attributes\":{\"end\":2016.0,\"reset_end\":2016.0,\"reset_start\":2010.0,\"start\":2010.0,\"tags\":[[[\"year\",\"year\",null]]]},\"id\":\"1360\",\"type\":\"Range1d\"},{\"attributes\":{},\"id\":\"1407\",\"type\":\"AllLabels\"},{\"attributes\":{\"end\":733.2177371101802,\"reset_end\":733.2177371101802,\"reset_start\":306.3294011864627,\"start\":306.3294011864627,\"tags\":[[[\"sale_price_sqr_foot\",\"sale_price_sqr_foot\",null]]]},\"id\":\"1361\",\"type\":\"Range1d\"},{\"attributes\":{},\"id\":\"1415\",\"type\":\"UnionRenderers\"},{\"attributes\":{\"line_color\":\"#30a2da\",\"line_width\":2,\"x\":{\"field\":\"year\"},\"y\":{\"field\":\"sale_price_sqr_foot\"}},\"id\":\"1396\",\"type\":\"Line\"},{\"attributes\":{},\"id\":\"1368\",\"type\":\"LinearScale\"},{\"attributes\":{},\"id\":\"1373\",\"type\":\"BasicTicker\"},{\"attributes\":{\"callback\":null,\"renderers\":[{\"id\":\"1399\"}],\"tags\":[\"hv_created\"],\"tooltips\":[[\"year\",\"@{year}\"],[\"sale_price_sqr_foot\",\"@{sale_price_sqr_foot}\"]]},\"id\":\"1362\",\"type\":\"HoverTool\"},{\"attributes\":{},\"id\":\"1370\",\"type\":\"LinearScale\"},{\"attributes\":{\"below\":[{\"id\":\"1372\"}],\"center\":[{\"id\":\"1375\"},{\"id\":\"1379\"}],\"height\":400,\"left\":[{\"id\":\"1376\"}],\"margin\":[5,5,5,5],\"min_border_bottom\":10,\"min_border_left\":10,\"min_border_right\":10,\"min_border_top\":10,\"renderers\":[{\"id\":\"1399\"}],\"sizing_mode\":\"fixed\",\"title\":{\"id\":\"1364\"},\"toolbar\":{\"id\":\"1386\"},\"width\":800,\"x_range\":{\"id\":\"1360\"},\"x_scale\":{\"id\":\"1368\"},\"y_range\":{\"id\":\"1361\"},\"y_scale\":{\"id\":\"1370\"}},\"id\":\"1363\",\"subtype\":\"Figure\",\"type\":\"Plot\"},{\"attributes\":{\"data\":{\"sale_price_sqr_foot\":{\"__ndarray__\":\"tQKjeIIVd0Do7CdydF51QGdijk899nhAaBKk2Jo5fkDGKCTbN2KBQPETFqRSxINAUB33UCbNhUA=\",\"dtype\":\"float64\",\"order\":\"little\",\"shape\":[7]},\"year\":[2010,2011,2012,2013,2014,2015,2016]},\"selected\":{\"id\":\"1394\"},\"selection_policy\":{\"id\":\"1415\"}},\"id\":\"1393\",\"type\":\"ColumnDataSource\"},{\"attributes\":{\"margin\":[5,5,5,5],\"name\":\"HSpacer02258\",\"sizing_mode\":\"stretch_width\"},\"id\":\"1359\",\"type\":\"Spacer\"},{\"attributes\":{\"axis\":{\"id\":\"1372\"},\"grid_line_color\":null,\"ticker\":null},\"id\":\"1375\",\"type\":\"Grid\"},{\"attributes\":{\"axis_label\":\"year\",\"formatter\":{\"id\":\"1403\"},\"major_label_policy\":{\"id\":\"1404\"},\"ticker\":{\"id\":\"1373\"}},\"id\":\"1372\",\"type\":\"LinearAxis\"},{\"attributes\":{\"axis\":{\"id\":\"1376\"},\"dimension\":1,\"grid_line_color\":null,\"ticker\":null},\"id\":\"1379\",\"type\":\"Grid\"},{\"attributes\":{\"source\":{\"id\":\"1393\"}},\"id\":\"1400\",\"type\":\"CDSView\"},{\"attributes\":{\"line_alpha\":0.2,\"line_color\":\"#30a2da\",\"line_width\":2,\"x\":{\"field\":\"year\"},\"y\":{\"field\":\"sale_price_sqr_foot\"}},\"id\":\"1398\",\"type\":\"Line\"},{\"attributes\":{\"axis_label\":\"\",\"formatter\":{\"id\":\"1406\"},\"major_label_policy\":{\"id\":\"1407\"},\"ticker\":{\"id\":\"1377\"}},\"id\":\"1376\",\"type\":\"LinearAxis\"},{\"attributes\":{},\"id\":\"1377\",\"type\":\"BasicTicker\"},{\"attributes\":{},\"id\":\"1394\",\"type\":\"Selection\"},{\"attributes\":{},\"id\":\"1382\",\"type\":\"WheelZoomTool\"},{\"attributes\":{\"line_alpha\":0.1,\"line_color\":\"#30a2da\",\"line_width\":2,\"x\":{\"field\":\"year\"},\"y\":{\"field\":\"sale_price_sqr_foot\"}},\"id\":\"1397\",\"type\":\"Line\"},{\"attributes\":{},\"id\":\"1380\",\"type\":\"SaveTool\"},{\"attributes\":{},\"id\":\"1403\",\"type\":\"BasicTickFormatter\"},{\"attributes\":{\"overlay\":{\"id\":\"1385\"}},\"id\":\"1383\",\"type\":\"BoxZoomTool\"},{\"attributes\":{},\"id\":\"1384\",\"type\":\"ResetTool\"},{\"attributes\":{\"active_multi\":null,\"tools\":[{\"id\":\"1362\"},{\"id\":\"1380\"},{\"id\":\"1381\"},{\"id\":\"1382\"},{\"id\":\"1383\"},{\"id\":\"1384\"}]},\"id\":\"1386\",\"type\":\"Toolbar\"},{\"attributes\":{\"margin\":[5,5,5,5],\"name\":\"HSpacer02259\",\"sizing_mode\":\"stretch_width\"},\"id\":\"1428\",\"type\":\"Spacer\"},{\"attributes\":{\"line_color\":\"#30a2da\",\"line_width\":2,\"x\":{\"field\":\"year\"},\"y\":{\"field\":\"sale_price_sqr_foot\"}},\"id\":\"1401\",\"type\":\"Line\"}],\"root_ids\":[\"1358\"]},\"title\":\"Bokeh Application\",\"version\":\"2.3.1\"}};\n",
       "    var render_items = [{\"docid\":\"c1edf69e-8902-440d-81e6-199f0930e6a3\",\"root_ids\":[\"1358\"],\"roots\":{\"1358\":\"82d18db9-a0f3-444b-be5b-9d3d1d13dfe5\"}}];\n",
       "    root.Bokeh.embed.embed_items_notebook(docs_json, render_items);\n",
       "  }\n",
       "  if (root.Bokeh !== undefined && root.Bokeh.Panel !== undefined && root['Plotly'] !== undefined ) {\n",
       "    embed_document(root);\n",
       "  } else {\n",
       "    var attempts = 0;\n",
       "    var timer = setInterval(function(root) {\n",
       "      if (root.Bokeh !== undefined && root.Bokeh.Panel !== undefined && root['Plotly'] !== undefined) {\n",
       "        clearInterval(timer);\n",
       "        embed_document(root);\n",
       "      } else if (document.readyState == \"complete\") {\n",
       "        attempts++;\n",
       "        if (attempts > 100) {\n",
       "          clearInterval(timer);\n",
       "          console.log(\"Bokeh: ERROR: Unable to run BokehJS code because BokehJS library is missing\");\n",
       "        }\n",
       "      }\n",
       "    }, 10, root)\n",
       "  }\n",
       "})(window);</script>"
      ],
      "text/plain": [
       ":Curve   [year]   (sale_price_sqr_foot)"
      ]
     },
     "execution_count": 71,
     "metadata": {
      "application/vnd.holoviews_exec.v0+json": {
       "id": "1358"
      }
     },
     "output_type": "execute_result"
    }
   ],
   "source": [
    "average_sales_price()"
   ]
  },
  {
   "cell_type": "code",
   "execution_count": 78,
   "metadata": {},
   "outputs": [
    {
     "data": {},
     "metadata": {},
     "output_type": "display_data"
    },
    {
     "data": {
      "application/vnd.holoviews_exec.v0+json": "",
      "text/html": [
       "<div id='1480'>\n",
       "\n",
       "\n",
       "\n",
       "\n",
       "\n",
       "  <div class=\"bk-root\" id=\"60abce64-c7d7-4b37-93b1-614142acd9ff\" data-root-id=\"1480\"></div>\n",
       "</div>\n",
       "<script type=\"application/javascript\">(function(root) {\n",
       "  function embed_document(root) {\n",
       "    var docs_json = {\"5f5c89e4-b947-471a-a8eb-deb11997b5b6\":{\"defs\":[],\"roots\":{\"references\":[{\"attributes\":{\"margin\":[5,5,5,5],\"name\":\"HSpacer02389\",\"sizing_mode\":\"stretch_width\"},\"id\":\"1481\",\"type\":\"Spacer\"},{\"attributes\":{\"margin\":[5,5,5,5],\"name\":\"HSpacer02390\",\"sizing_mode\":\"stretch_width\"},\"id\":\"1556\",\"type\":\"Spacer\"},{\"attributes\":{\"margin\":[5,5,5,5],\"name\":\"VSpacer02387\",\"sizing_mode\":\"stretch_height\"},\"id\":\"1561\",\"type\":\"Spacer\"},{\"attributes\":{\"line_alpha\":0.2,\"line_color\":\"#30a2da\",\"line_width\":2,\"x\":{\"field\":\"year\"},\"y\":{\"field\":\"sale_price_sqr_foot\"}},\"id\":\"1520\",\"type\":\"Line\"},{\"attributes\":{\"client_comm_id\":\"f4a0574b133b49788153377018a50ca0\",\"comm_id\":\"2b96b25b45f541aa87f3778c399215c2\",\"plot_id\":\"1480\"},\"id\":\"1592\",\"type\":\"panel.models.comm_manager.CommManager\"},{\"attributes\":{\"end\":2016.0,\"reset_end\":2016.0,\"reset_start\":2010.0,\"start\":2010.0,\"tags\":[[[\"year\",\"year\",null]]]},\"id\":\"1482\",\"type\":\"Range1d\"},{\"attributes\":{\"source\":{\"id\":\"1515\"}},\"id\":\"1522\",\"type\":\"CDSView\"},{\"attributes\":{},\"id\":\"1503\",\"type\":\"PanTool\"},{\"attributes\":{\"line_color\":\"#30a2da\",\"line_width\":2,\"x\":{\"field\":\"year\"},\"y\":{\"field\":\"sale_price_sqr_foot\"}},\"id\":\"1523\",\"type\":\"Line\"},{\"attributes\":{\"callback\":null,\"renderers\":[{\"id\":\"1521\"}],\"tags\":[\"hv_created\"],\"tooltips\":[[\"year\",\"@{year}\"],[\"sale_price_sqr_foot\",\"@{sale_price_sqr_foot}\"]]},\"id\":\"1484\",\"type\":\"HoverTool\"},{\"attributes\":{},\"id\":\"1525\",\"type\":\"BasicTickFormatter\"},{\"attributes\":{\"text\":\"neighborhood: Alamo Square\",\"text_color\":\"black\",\"text_font_size\":\"12pt\"},\"id\":\"1486\",\"type\":\"Title\"},{\"attributes\":{\"bottom_units\":\"screen\",\"fill_alpha\":0.5,\"fill_color\":\"lightgrey\",\"left_units\":\"screen\",\"level\":\"overlay\",\"line_alpha\":1.0,\"line_color\":\"black\",\"line_dash\":[4,4],\"line_width\":2,\"right_units\":\"screen\",\"syncable\":false,\"top_units\":\"screen\"},\"id\":\"1507\",\"type\":\"BoxAnnotation\"},{\"attributes\":{\"end\":644.0175329447045,\"reset_end\":644.0175329447045,\"reset_start\":141.1976609302527,\"start\":141.1976609302527,\"tags\":[[[\"sale_price_sqr_foot\",\"sale_price_sqr_foot\",null]]]},\"id\":\"1483\",\"type\":\"Range1d\"},{\"attributes\":{\"margin\":[5,5,5,5],\"name\":\"VSpacer02386\",\"sizing_mode\":\"stretch_height\"},\"id\":\"1558\",\"type\":\"Spacer\"},{\"attributes\":{\"children\":[{\"id\":\"1560\"}],\"css_classes\":[\"panel-widget-box\"],\"margin\":[5,5,5,5],\"name\":\"WidgetBox02381\"},\"id\":\"1559\",\"type\":\"Column\"},{\"attributes\":{},\"id\":\"1490\",\"type\":\"LinearScale\"},{\"attributes\":{},\"id\":\"1495\",\"type\":\"BasicTicker\"},{\"attributes\":{},\"id\":\"1492\",\"type\":\"LinearScale\"},{\"attributes\":{\"children\":[{\"id\":\"1481\"},{\"id\":\"1485\"},{\"id\":\"1556\"},{\"id\":\"1557\"}],\"margin\":[0,0,0,0],\"name\":\"Row02380\"},\"id\":\"1480\",\"type\":\"Row\"},{\"attributes\":{\"children\":[{\"id\":\"1558\"},{\"id\":\"1559\"},{\"id\":\"1561\"}],\"margin\":[0,0,0,0],\"name\":\"Column02388\"},\"id\":\"1557\",\"type\":\"Column\"},{\"attributes\":{\"below\":[{\"id\":\"1494\"}],\"center\":[{\"id\":\"1497\"},{\"id\":\"1501\"}],\"height\":300,\"left\":[{\"id\":\"1498\"}],\"margin\":[5,5,5,5],\"min_border_bottom\":10,\"min_border_left\":10,\"min_border_right\":10,\"min_border_top\":10,\"renderers\":[{\"id\":\"1521\"}],\"sizing_mode\":\"fixed\",\"title\":{\"id\":\"1486\"},\"toolbar\":{\"id\":\"1508\"},\"width\":700,\"x_range\":{\"id\":\"1482\"},\"x_scale\":{\"id\":\"1490\"},\"y_range\":{\"id\":\"1483\"},\"y_scale\":{\"id\":\"1492\"}},\"id\":\"1485\",\"subtype\":\"Figure\",\"type\":\"Plot\"},{\"attributes\":{\"axis\":{\"id\":\"1494\"},\"grid_line_color\":null,\"ticker\":null},\"id\":\"1497\",\"type\":\"Grid\"},{\"attributes\":{\"margin\":[20,20,20,20],\"min_width\":250,\"options\":[\"Alamo Square\",\"Anza Vista\",\"Bayview\",\"Bayview Heights\",\"Bernal Heights \",\"Buena Vista Park\",\"Central Richmond\",\"Central Sunset\",\"Clarendon Heights\",\"Corona Heights\",\"Cow Hollow\",\"Croker Amazon\",\"Diamond Heights\",\"Downtown \",\"Duboce Triangle\",\"Eureka Valley/Dolores Heights\",\"Excelsior\",\"Financial District North\",\"Financial District South\",\"Forest Knolls\",\"Glen Park\",\"Golden Gate Heights\",\"Haight Ashbury\",\"Hayes Valley\",\"Hunters Point\",\"Ingleside \",\"Ingleside Heights\",\"Inner Mission\",\"Inner Parkside\",\"Inner Richmond\",\"Inner Sunset\",\"Jordan Park/Laurel Heights\",\"Lake --The Presidio\",\"Lone Mountain\",\"Lower Pacific Heights\",\"Marina\",\"Merced Heights\",\"Midtown Terrace\",\"Miraloma Park\",\"Mission Bay\",\"Mission Dolores\",\"Mission Terrace\",\"Nob Hill\",\"Noe Valley\",\"North Beach\",\"North Waterfront\",\"Oceanview\",\"Outer Mission\",\"Outer Parkside\",\"Outer Richmond \",\"Outer Sunset\",\"Pacific Heights\",\"Park North\",\"Parkside\",\"Parnassus/Ashbury Heights\",\"Portola\",\"Potrero Hill\",\"Presidio Heights\",\"Russian Hill\",\"Silver Terrace\",\"South Beach\",\"South of Market\",\"Sunnyside\",\"Telegraph Hill\",\"Twin Peaks\",\"Union Square District\",\"Van Ness/ Civic Center\",\"Visitacion Valley\",\"West Portal\",\"Western Addition\",\"Westwood Highlands\",\"Westwood Park\",\"Yerba Buena\"],\"title\":\"neighborhood\",\"value\":\"Alamo Square\",\"width\":250},\"id\":\"1560\",\"type\":\"Select\"},{\"attributes\":{\"axis_label\":\"year\",\"formatter\":{\"id\":\"1525\"},\"major_label_policy\":{\"id\":\"1526\"},\"ticker\":{\"id\":\"1495\"}},\"id\":\"1494\",\"type\":\"LinearAxis\"},{\"attributes\":{\"axis\":{\"id\":\"1498\"},\"dimension\":1,\"grid_line_color\":null,\"ticker\":null},\"id\":\"1501\",\"type\":\"Grid\"},{\"attributes\":{\"axis_label\":\"sale_price_sqr_foot\",\"formatter\":{\"id\":\"1528\"},\"major_label_policy\":{\"id\":\"1529\"},\"ticker\":{\"id\":\"1499\"}},\"id\":\"1498\",\"type\":\"LinearAxis\"},{\"attributes\":{},\"id\":\"1499\",\"type\":\"BasicTicker\"},{\"attributes\":{},\"id\":\"1504\",\"type\":\"WheelZoomTool\"},{\"attributes\":{},\"id\":\"1543\",\"type\":\"UnionRenderers\"},{\"attributes\":{\"active_multi\":null,\"tools\":[{\"id\":\"1484\"},{\"id\":\"1502\"},{\"id\":\"1503\"},{\"id\":\"1504\"},{\"id\":\"1505\"},{\"id\":\"1506\"}]},\"id\":\"1508\",\"type\":\"Toolbar\"},{\"attributes\":{},\"id\":\"1502\",\"type\":\"SaveTool\"},{\"attributes\":{\"overlay\":{\"id\":\"1507\"}},\"id\":\"1505\",\"type\":\"BoxZoomTool\"},{\"attributes\":{},\"id\":\"1506\",\"type\":\"ResetTool\"},{\"attributes\":{},\"id\":\"1526\",\"type\":\"AllLabels\"},{\"attributes\":{\"line_alpha\":0.1,\"line_color\":\"#30a2da\",\"line_width\":2,\"x\":{\"field\":\"year\"},\"y\":{\"field\":\"sale_price_sqr_foot\"}},\"id\":\"1519\",\"type\":\"Line\"},{\"attributes\":{},\"id\":\"1529\",\"type\":\"AllLabels\"},{\"attributes\":{\"data\":{\"sale_price_sqr_foot\":{\"__ndarray__\":\"Dkc7WO0yckCafszcbwhxQIGRs5ot42ZAJzog0LQ8eEAWMinKGEd+QI0V5FDt0IJAVCHcmLVPdUA=\",\"dtype\":\"float64\",\"order\":\"little\",\"shape\":[7]},\"year\":[2010,2011,2012,2013,2014,2015,2016]},\"selected\":{\"id\":\"1516\"},\"selection_policy\":{\"id\":\"1543\"}},\"id\":\"1515\",\"type\":\"ColumnDataSource\"},{\"attributes\":{\"line_color\":\"#30a2da\",\"line_width\":2,\"x\":{\"field\":\"year\"},\"y\":{\"field\":\"sale_price_sqr_foot\"}},\"id\":\"1518\",\"type\":\"Line\"},{\"attributes\":{},\"id\":\"1528\",\"type\":\"BasicTickFormatter\"},{\"attributes\":{},\"id\":\"1516\",\"type\":\"Selection\"},{\"attributes\":{\"data_source\":{\"id\":\"1515\"},\"glyph\":{\"id\":\"1518\"},\"hover_glyph\":null,\"muted_glyph\":{\"id\":\"1520\"},\"nonselection_glyph\":{\"id\":\"1519\"},\"selection_glyph\":{\"id\":\"1523\"},\"view\":{\"id\":\"1522\"}},\"id\":\"1521\",\"type\":\"GlyphRenderer\"}],\"root_ids\":[\"1480\",\"1592\"]},\"title\":\"Bokeh Application\",\"version\":\"2.3.1\"}};\n",
       "    var render_items = [{\"docid\":\"5f5c89e4-b947-471a-a8eb-deb11997b5b6\",\"root_ids\":[\"1480\"],\"roots\":{\"1480\":\"60abce64-c7d7-4b37-93b1-614142acd9ff\"}}];\n",
       "    root.Bokeh.embed.embed_items_notebook(docs_json, render_items);\n",
       "  }\n",
       "  if (root.Bokeh !== undefined && root.Bokeh.Panel !== undefined && root['Plotly'] !== undefined ) {\n",
       "    embed_document(root);\n",
       "  } else {\n",
       "    var attempts = 0;\n",
       "    var timer = setInterval(function(root) {\n",
       "      if (root.Bokeh !== undefined && root.Bokeh.Panel !== undefined && root['Plotly'] !== undefined) {\n",
       "        clearInterval(timer);\n",
       "        embed_document(root);\n",
       "      } else if (document.readyState == \"complete\") {\n",
       "        attempts++;\n",
       "        if (attempts > 100) {\n",
       "          clearInterval(timer);\n",
       "          console.log(\"Bokeh: ERROR: Unable to run BokehJS code because BokehJS library is missing\");\n",
       "        }\n",
       "      }\n",
       "    }, 10, root)\n",
       "  }\n",
       "})(window);</script>"
      ],
      "text/plain": [
       ":DynamicMap   [neighborhood]\n",
       "   :Curve   [year]   (sale_price_sqr_foot)"
      ]
     },
     "execution_count": 78,
     "metadata": {
      "application/vnd.holoviews_exec.v0+json": {
       "id": "1480"
      }
     },
     "output_type": "execute_result"
    }
   ],
   "source": [
    "average_price_by_neighborhood()"
   ]
  },
  {
   "cell_type": "code",
   "execution_count": 85,
   "metadata": {},
   "outputs": [
    {
     "data": {},
     "metadata": {},
     "output_type": "display_data"
    },
    {
     "data": {
      "application/vnd.holoviews_exec.v0+json": "",
      "text/html": [
       "<div id='1760'>\n",
       "\n",
       "\n",
       "\n",
       "\n",
       "\n",
       "  <div class=\"bk-root\" id=\"5460c92d-9f6a-49d8-a4cf-f7fa660e473d\" data-root-id=\"1760\"></div>\n",
       "</div>\n",
       "<script type=\"application/javascript\">(function(root) {\n",
       "  function embed_document(root) {\n",
       "    var docs_json = {\"692a6cd9-5eed-4ebc-b115-6684942564ad\":{\"defs\":[],\"roots\":{\"references\":[{\"attributes\":{\"text_color\":\"black\",\"text_font_size\":\"12pt\"},\"id\":\"1766\",\"type\":\"Title\"},{\"attributes\":{\"axis_label\":\"sale_price_sqr_foot\",\"formatter\":{\"id\":\"1803\"},\"major_label_policy\":{\"id\":\"1809\"},\"ticker\":{\"id\":\"1778\"}},\"id\":\"1777\",\"type\":\"LinearAxis\"},{\"attributes\":{},\"id\":\"1806\",\"type\":\"CategoricalTickFormatter\"},{\"attributes\":{},\"id\":\"1785\",\"type\":\"ResetTool\"},{\"attributes\":{\"fill_alpha\":{\"value\":0.2},\"fill_color\":{\"value\":\"#30a2da\"},\"line_alpha\":{\"value\":0.2},\"top\":{\"field\":\"sale_price_sqr_foot\"},\"width\":{\"value\":0.8},\"x\":{\"field\":\"neighborhood\"}},\"id\":\"1799\",\"type\":\"VBar\"},{\"attributes\":{},\"id\":\"1818\",\"type\":\"UnionRenderers\"},{\"attributes\":{\"axis\":{\"id\":\"1777\"},\"dimension\":1,\"grid_line_color\":null,\"ticker\":null},\"id\":\"1780\",\"type\":\"Grid\"},{\"attributes\":{\"callback\":null,\"renderers\":[{\"id\":\"1800\"}],\"tags\":[\"hv_created\"],\"tooltips\":[[\"neighborhood\",\"@{neighborhood}\"],[\"sale_price_sqr_foot\",\"@{sale_price_sqr_foot}\"]]},\"id\":\"1764\",\"type\":\"HoverTool\"},{\"attributes\":{\"below\":[{\"id\":\"1774\"}],\"center\":[{\"id\":\"1776\"},{\"id\":\"1780\"}],\"height\":400,\"left\":[{\"id\":\"1777\"}],\"margin\":[5,5,5,5],\"min_border_bottom\":10,\"min_border_left\":10,\"min_border_right\":10,\"min_border_top\":10,\"renderers\":[{\"id\":\"1800\"}],\"sizing_mode\":\"fixed\",\"title\":{\"id\":\"1766\"},\"toolbar\":{\"id\":\"1787\"},\"width\":800,\"x_range\":{\"id\":\"1762\"},\"x_scale\":{\"id\":\"1770\"},\"y_range\":{\"id\":\"1763\"},\"y_scale\":{\"id\":\"1772\"}},\"id\":\"1765\",\"subtype\":\"Figure\",\"type\":\"Plot\"},{\"attributes\":{\"data\":{\"neighborhood\":[\"Presidio Heights\",\"Merced Heights\",\"Parnassus/Ashbury Heights\",\"Outer Richmond \",\"Cow Hollow\",\"Eureka Valley/Dolores Heights\",\"Russian Hill\",\"Pacific Heights\",\"Bernal Heights \",\"Twin Peaks\"],\"sale_price_sqr_foot\":{\"__ndarray__\":\"hyUc1d/nlkCsqqqqqiKWQGKfoWz935JAoL9q7ZSykkCWcg0tQ4yQQII4FxgqC5BA+YfACFwBkECS2KRqHSOPQGwor6G81o5ACq/wCq9QjkA=\",\"dtype\":\"float64\",\"order\":\"little\",\"shape\":[10]}},\"selected\":{\"id\":\"1795\"},\"selection_policy\":{\"id\":\"1818\"}},\"id\":\"1794\",\"type\":\"ColumnDataSource\"},{\"attributes\":{\"children\":[{\"id\":\"1761\"},{\"id\":\"1765\"},{\"id\":\"1830\"}],\"margin\":[0,0,0,0],\"name\":\"Row02857\",\"tags\":[\"embedded\"]},\"id\":\"1760\",\"type\":\"Row\"},{\"attributes\":{},\"id\":\"1781\",\"type\":\"SaveTool\"},{\"attributes\":{\"overlay\":{\"id\":\"1786\"}},\"id\":\"1784\",\"type\":\"BoxZoomTool\"},{\"attributes\":{\"axis_label\":\"neighborhood\",\"formatter\":{\"id\":\"1806\"},\"major_label_orientation\":1.0471975511965976,\"major_label_policy\":{\"id\":\"1805\"},\"ticker\":{\"id\":\"1775\"}},\"id\":\"1774\",\"type\":\"CategoricalAxis\"},{\"attributes\":{},\"id\":\"1805\",\"type\":\"AllLabels\"},{\"attributes\":{},\"id\":\"1770\",\"type\":\"CategoricalScale\"},{\"attributes\":{\"fill_color\":{\"value\":\"#30a2da\"},\"top\":{\"field\":\"sale_price_sqr_foot\"},\"width\":{\"value\":0.8},\"x\":{\"field\":\"neighborhood\"}},\"id\":\"1797\",\"type\":\"VBar\"},{\"attributes\":{},\"id\":\"1778\",\"type\":\"BasicTicker\"},{\"attributes\":{},\"id\":\"1775\",\"type\":\"CategoricalTicker\"},{\"attributes\":{},\"id\":\"1795\",\"type\":\"Selection\"},{\"attributes\":{\"margin\":[5,5,5,5],\"name\":\"HSpacer02861\",\"sizing_mode\":\"stretch_width\"},\"id\":\"1761\",\"type\":\"Spacer\"},{\"attributes\":{\"fill_alpha\":{\"value\":0.1},\"fill_color\":{\"value\":\"#30a2da\"},\"line_alpha\":{\"value\":0.1},\"top\":{\"field\":\"sale_price_sqr_foot\"},\"width\":{\"value\":0.8},\"x\":{\"field\":\"neighborhood\"}},\"id\":\"1798\",\"type\":\"VBar\"},{\"attributes\":{\"end\":1565.9685863874345,\"reset_end\":1565.9685863874345,\"reset_start\":0,\"tags\":[[[\"sale_price_sqr_foot\",\"sale_price_sqr_foot\",null]]]},\"id\":\"1763\",\"type\":\"Range1d\"},{\"attributes\":{},\"id\":\"1782\",\"type\":\"PanTool\"},{\"attributes\":{\"data_source\":{\"id\":\"1794\"},\"glyph\":{\"id\":\"1797\"},\"hover_glyph\":null,\"muted_glyph\":{\"id\":\"1799\"},\"nonselection_glyph\":{\"id\":\"1798\"},\"selection_glyph\":{\"id\":\"1802\"},\"view\":{\"id\":\"1801\"}},\"id\":\"1800\",\"type\":\"GlyphRenderer\"},{\"attributes\":{},\"id\":\"1772\",\"type\":\"LinearScale\"},{\"attributes\":{\"factors\":[\"Presidio Heights\",\"Merced Heights\",\"Parnassus/Ashbury Heights\",\"Outer Richmond \",\"Cow Hollow\",\"Eureka Valley/Dolores Heights\",\"Russian Hill\",\"Pacific Heights\",\"Bernal Heights \",\"Twin Peaks\"],\"tags\":[[[\"neighborhood\",\"neighborhood\",null]]]},\"id\":\"1762\",\"type\":\"FactorRange\"},{\"attributes\":{\"source\":{\"id\":\"1794\"}},\"id\":\"1801\",\"type\":\"CDSView\"},{\"attributes\":{\"axis\":{\"id\":\"1774\"},\"grid_line_color\":null,\"ticker\":null},\"id\":\"1776\",\"type\":\"Grid\"},{\"attributes\":{\"bottom\":{\"value\":0},\"fill_alpha\":{\"value\":1.0},\"fill_color\":{\"value\":\"#30a2da\"},\"hatch_alpha\":{\"value\":1.0},\"hatch_color\":{\"value\":\"black\"},\"hatch_scale\":{\"value\":12.0},\"hatch_weight\":{\"value\":1.0},\"line_alpha\":{\"value\":1.0},\"line_cap\":{\"value\":\"butt\"},\"line_color\":{\"value\":\"black\"},\"line_dash\":{\"value\":[]},\"line_dash_offset\":{\"value\":0},\"line_join\":{\"value\":\"bevel\"},\"line_width\":{\"value\":1},\"top\":{\"field\":\"sale_price_sqr_foot\"},\"width\":{\"value\":0.8},\"x\":{\"field\":\"neighborhood\"}},\"id\":\"1802\",\"type\":\"VBar\"},{\"attributes\":{},\"id\":\"1783\",\"type\":\"WheelZoomTool\"},{\"attributes\":{\"active_multi\":null,\"tools\":[{\"id\":\"1764\"},{\"id\":\"1781\"},{\"id\":\"1782\"},{\"id\":\"1783\"},{\"id\":\"1784\"},{\"id\":\"1785\"}]},\"id\":\"1787\",\"type\":\"Toolbar\"},{\"attributes\":{\"margin\":[5,5,5,5],\"name\":\"HSpacer02862\",\"sizing_mode\":\"stretch_width\"},\"id\":\"1830\",\"type\":\"Spacer\"},{\"attributes\":{\"bottom_units\":\"screen\",\"fill_alpha\":0.5,\"fill_color\":\"lightgrey\",\"left_units\":\"screen\",\"level\":\"overlay\",\"line_alpha\":1.0,\"line_color\":\"black\",\"line_dash\":[4,4],\"line_width\":2,\"right_units\":\"screen\",\"syncable\":false,\"top_units\":\"screen\"},\"id\":\"1786\",\"type\":\"BoxAnnotation\"},{\"attributes\":{\"format\":\"%0u\"},\"id\":\"1803\",\"type\":\"PrintfTickFormatter\"},{\"attributes\":{},\"id\":\"1809\",\"type\":\"AllLabels\"}],\"root_ids\":[\"1760\"]},\"title\":\"Bokeh Application\",\"version\":\"2.3.1\"}};\n",
       "    var render_items = [{\"docid\":\"692a6cd9-5eed-4ebc-b115-6684942564ad\",\"root_ids\":[\"1760\"],\"roots\":{\"1760\":\"5460c92d-9f6a-49d8-a4cf-f7fa660e473d\"}}];\n",
       "    root.Bokeh.embed.embed_items_notebook(docs_json, render_items);\n",
       "  }\n",
       "  if (root.Bokeh !== undefined && root.Bokeh.Panel !== undefined && root['Plotly'] !== undefined ) {\n",
       "    embed_document(root);\n",
       "  } else {\n",
       "    var attempts = 0;\n",
       "    var timer = setInterval(function(root) {\n",
       "      if (root.Bokeh !== undefined && root.Bokeh.Panel !== undefined && root['Plotly'] !== undefined) {\n",
       "        clearInterval(timer);\n",
       "        embed_document(root);\n",
       "      } else if (document.readyState == \"complete\") {\n",
       "        attempts++;\n",
       "        if (attempts > 100) {\n",
       "          clearInterval(timer);\n",
       "          console.log(\"Bokeh: ERROR: Unable to run BokehJS code because BokehJS library is missing\");\n",
       "        }\n",
       "      }\n",
       "    }, 10, root)\n",
       "  }\n",
       "})(window);</script>"
      ],
      "text/plain": [
       ":Bars   [neighborhood]   (sale_price_sqr_foot)"
      ]
     },
     "execution_count": 85,
     "metadata": {
      "application/vnd.holoviews_exec.v0+json": {
       "id": "1760"
      }
     },
     "output_type": "execute_result"
    }
   ],
   "source": [
    "top_most_expensive_neighborhoods()"
   ]
  },
  {
   "cell_type": "code",
   "execution_count": null,
   "metadata": {},
   "outputs": [],
   "source": [
    "# most_expensive_neighborhoods_rent_sales()"
   ]
  },
  {
   "cell_type": "code",
   "execution_count": null,
   "metadata": {},
   "outputs": [],
   "source": [
    "# neighborhood_map().show()"
   ]
  },
  {
   "cell_type": "code",
   "execution_count": null,
   "metadata": {},
   "outputs": [],
   "source": [
    "# parallel_categories()"
   ]
  },
  {
   "cell_type": "code",
   "execution_count": null,
   "metadata": {},
   "outputs": [],
   "source": [
    "# parallel_coordinates()"
   ]
  },
  {
   "cell_type": "code",
   "execution_count": null,
   "metadata": {},
   "outputs": [],
   "source": [
    "# sunburst()"
   ]
  },
  {
   "cell_type": "code",
   "execution_count": null,
   "metadata": {},
   "outputs": [],
   "source": []
  }
 ],
 "metadata": {
  "file_extension": ".py",
  "kernelspec": {
   "display_name": "Python 3",
   "language": "python",
   "name": "python3"
  },
  "language_info": {
   "codemirror_mode": {
    "name": "ipython",
    "version": 3
   },
   "file_extension": ".py",
   "mimetype": "text/x-python",
   "name": "python",
   "nbconvert_exporter": "python",
   "pygments_lexer": "ipython3",
   "version": "3.8.5"
  },
  "mimetype": "text/x-python",
  "name": "python",
  "npconvert_exporter": "python",
  "pygments_lexer": "ipython3",
  "version": 3
 },
 "nbformat": 4,
 "nbformat_minor": 4
}
